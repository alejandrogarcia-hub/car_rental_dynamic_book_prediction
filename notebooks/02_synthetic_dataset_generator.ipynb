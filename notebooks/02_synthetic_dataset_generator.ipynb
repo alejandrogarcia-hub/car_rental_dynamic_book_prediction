{
  "cells": [
    {
      "cell_type": "markdown",
      "metadata": {
        "vscode": {
          "languageId": "raw"
        }
      },
      "source": [
        "# Dataset Generator\n",
        "\n",
        "This notebook generates synthetic data for the car rental dynamic booking prediction project using the SDV (Synthetic Data Vault) library.\n"
      ]
    },
    {
      "cell_type": "code",
      "execution_count": 1,
      "metadata": {},
      "outputs": [
        {
          "name": "stdout",
          "output_type": "stream",
          "text": [
            "✅ Libraries imported successfully\n"
          ]
        }
      ],
      "source": [
        "import json\n",
        "import os\n",
        "import warnings\n",
        "\n",
        "import numpy as np\n",
        "import pandas as pd\n",
        "from sdv.metadata import SingleTableMetadata\n",
        "from sdv.single_table import GaussianCopulaSynthesizer\n",
        "\n",
        "rng = np.random.default_rng(2025)\n",
        "\n",
        "# Suppress SDV warnings for cleaner output\n",
        "warnings.filterwarnings('ignore', category=FutureWarning, module='sdv')\n",
        "warnings.filterwarnings('ignore', category=UserWarning, module='sdv')\n",
        "\n",
        "print(\"✅ Libraries imported successfully\")\n"
      ]
    },
    {
      "cell_type": "markdown",
      "metadata": {},
      "source": [
        "## Variables"
      ]
    },
    {
      "cell_type": "code",
      "execution_count": 2,
      "metadata": {},
      "outputs": [],
      "source": [
        "hours = pd.date_range(\"2024-01-01\", \"2024-12-31 23:00\", freq=\"h\")\n",
        "sample_rows = 30_000     # Price observation sample size\n",
        "\n",
        "n_comp = 10_000          # Competitor price observations  \n",
        "comp_days = pd.date_range(\"2024-01-01\", \"2024-12-31\", freq=\"d\")\n",
        "\n",
        "sample_dir = \"/Users/alejandro/workspace/car_rental_dynamic_book_prediction/data/sample\"\n",
        "output_dir = \"/Users/alejandro/workspace/car_rental_dynamic_book_prediction/data/synthetic_data\"\n"
      ]
    },
    {
      "cell_type": "markdown",
      "metadata": {},
      "source": [
        "## Load Data"
      ]
    },
    {
      "cell_type": "code",
      "execution_count": 3,
      "metadata": {},
      "outputs": [],
      "source": [
        "users_df = pd.read_csv(os.path.join(sample_dir, \"users.csv\"))\n",
        "suppliers_df = pd.read_csv(os.path.join(sample_dir, \"suppliers.csv\"))\n",
        "searches_df = pd.read_csv(os.path.join(sample_dir, \"searches.csv\"))\n",
        "car_classes_df = pd.read_csv(os.path.join(sample_dir, \"car_classes.csv\"))\n",
        "bookings_df = pd.read_csv(os.path.join(sample_dir, \"bookings.csv\"))\n",
        "rental_prices_df = pd.read_csv(os.path.join(sample_dir, \"rental_prices.csv\"))\n",
        "competitor_prices_df = pd.read_csv(os.path.join(sample_dir, \"competitor_prices.csv\"))\n",
        "\n",
        "with open(os.path.join(sample_dir, \"locations_weights.json\"), \"r\") as f:\n",
        "    location_weights = json.load(f)"
      ]
    },
    {
      "cell_type": "code",
      "execution_count": 4,
      "metadata": {},
      "outputs": [],
      "source": [
        "# n_searches = searches_df.shape[0]\n",
        "# n_users = users_df.shape[0]\n",
        "# n_suppliers = suppliers_df.shape[0]\n",
        "# n_car_classes = car_classes_df.shape[0]\n",
        "# n_locations = len(location_weights)\n",
        "\n",
        "# # Realistic conversion rate: 2.5% (200,000 searches → 5,000 bookings)\n",
        "# n_bookings = int(n_searches * 0.025)"
      ]
    },
    {
      "cell_type": "code",
      "execution_count": 5,
      "metadata": {},
      "outputs": [
        {
          "name": "stdout",
          "output_type": "stream",
          "text": [
            "Data tables created successfully!\n",
            "Tables shapes:\n",
            "  suppliers: (92, 4)\n",
            "  users: (20000, 3)\n",
            "  car_classes: (4, 3)\n",
            "  searches: (57282, 11)\n",
            "  rental_prices: (8761, 10)\n",
            "  competitor_prices: (366, 7)\n",
            "  bookings: (3205, 16)\n"
          ]
        }
      ],
      "source": [
        "print(\"Data tables created successfully!\")\n",
        "print(f\"Tables shapes:\")\n",
        "print(f\"  suppliers: {suppliers_df.shape}\")\n",
        "print(f\"  users: {users_df.shape}\")\n",
        "print(f\"  car_classes: {car_classes_df.shape}\")\n",
        "print(f\"  searches: {searches_df.shape}\")\n",
        "print(f\"  rental_prices: {rental_prices_df.shape}\")\n",
        "print(f\"  competitor_prices: {competitor_prices_df.shape}\")\n",
        "print(f\"  bookings: {bookings_df.shape}\")"
      ]
    },
    {
      "cell_type": "markdown",
      "metadata": {},
      "source": [
        "## 2 Create data dictionary and metadata"
      ]
    },
    {
      "cell_type": "code",
      "execution_count": 6,
      "metadata": {},
      "outputs": [
        {
          "name": "stdout",
          "output_type": "stream",
          "text": [
            "✅ Data dictionary created with all tables\n",
            "Tables: ['suppliers', 'car_classes', 'users', 'searches', 'rental_prices', 'competitor_prices', 'bookings']\n",
            "  suppliers: (92, 4)\n",
            "  car_classes: (4, 3)\n",
            "  users: (20000, 3)\n",
            "  searches: (57282, 11)\n",
            "  rental_prices: (8761, 10)\n",
            "  competitor_prices: (366, 7)\n",
            "  bookings: (3205, 16)\n",
            "📋 Using INDIVIDUAL TABLE SYNTHESIS approach\n",
            "   This approach generates each table independently, avoiding metadata complexity\n",
            "   Results will maintain the same data distributions and characteristics\n"
          ]
        }
      ],
      "source": [
        "# Organize data into dictionary\n",
        "data = {\n",
        "    'suppliers': suppliers_df,\n",
        "    'car_classes': car_classes_df,\n",
        "    'users': users_df,\n",
        "    'searches': searches_df,\n",
        "    'rental_prices': rental_prices_df,\n",
        "    'competitor_prices': competitor_prices_df,\n",
        "    'bookings': bookings_df\n",
        "}\n",
        "\n",
        "print(\"✅ Data dictionary created with all tables\")\n",
        "print(f\"Tables: {list(data.keys())}\")\n",
        "for table_name, table_df in data.items():\n",
        "    print(f\"  {table_name}: {table_df.shape}\")\n",
        "\n",
        "# ⚠️ SKIP complex multi-table metadata setup due to SDV API complexity\n",
        "# Use INDIVIDUAL TABLE SYNTHESIS instead (more reliable and faster)\n",
        "print(\"📋 Using INDIVIDUAL TABLE SYNTHESIS approach\")\n",
        "print(\"   This approach generates each table independently, avoiding metadata complexity\")\n",
        "print(\"   Results will maintain the same data distributions and characteristics\")\n"
      ]
    },
    {
      "cell_type": "markdown",
      "metadata": {},
      "source": [
        "## 3 🚀 INDIVIDUAL TABLE SYNTHESIS (Reliable & Fast)"
      ]
    },
    {
      "cell_type": "code",
      "execution_count": 7,
      "metadata": {},
      "outputs": [
        {
          "name": "stdout",
          "output_type": "stream",
          "text": [
            "🚀 Using individual table synthesis...\n",
            "   (Each table synthesized independently for optimal performance)\n",
            "\\n📊 Synthesizing suppliers...\n",
            "   Original shape: (92, 4)\n",
            "   ✅ Generated: (92, 4)\n",
            "\\n📊 Synthesizing car_classes...\n",
            "   Original shape: (4, 3)\n",
            "   ✅ Generated: (4, 3)\n",
            "\\n📊 Synthesizing users...\n",
            "   Original shape: (20000, 3)\n",
            "   ✅ Generated: (20000, 3)\n",
            "\\n📊 Synthesizing searches...\n",
            "   Original shape: (57282, 11)\n",
            "   ✅ Generated: (57282, 11)\n",
            "\\n📊 Synthesizing rental_prices...\n",
            "   Original shape: (8761, 10)\n",
            "   ✅ Generated: (8761, 10)\n",
            "\\n📊 Synthesizing competitor_prices...\n",
            "   Original shape: (366, 7)\n",
            "   ✅ Generated: (366, 7)\n",
            "\\n📊 Synthesizing bookings...\n",
            "   Original shape: (3205, 16)\n",
            "   ✅ Generated: (3205, 16)\n",
            "\\n🎉 Individual table synthesis completed successfully!\n",
            "📋 Generated 7 synthetic tables\n",
            "📊 Total synthetic rows: 89,710\n"
          ]
        }
      ],
      "source": [
        "print(\"🚀 Using individual table synthesis...\")\n",
        "print(\"   (Each table synthesized independently for optimal performance)\")\n",
        "\n",
        "synthetic_data = {}\n",
        "\n",
        "# Generate each table independently using GaussianCopulaSynthesizer\n",
        "for table_name, table_df in data.items():\n",
        "    print(f\"\\\\n📊 Synthesizing {table_name}...\")\n",
        "    print(f\"   Original shape: {table_df.shape}\")\n",
        "    \n",
        "    # Create metadata for this individual table\n",
        "    metadata = SingleTableMetadata()\n",
        "    metadata.detect_from_dataframe(table_df)\n",
        "    \n",
        "    # Create synthesizer with metadata\n",
        "    synthesizer = GaussianCopulaSynthesizer(metadata)\n",
        "    \n",
        "    # Fit to the original data\n",
        "    synthesizer.fit(table_df)\n",
        "    \n",
        "    # Generate synthetic version with same number of rows\n",
        "    synthetic_table = synthesizer.sample(num_rows=len(table_df))\n",
        "    synthetic_data[table_name] = synthetic_table\n",
        "    \n",
        "    print(f\"   ✅ Generated: {synthetic_table.shape}\")\n",
        "\n",
        "print(f\"\\\\n🎉 Individual table synthesis completed successfully!\")\n",
        "print(f\"📋 Generated {len(synthetic_data)} synthetic tables\")\n",
        "print(f\"📊 Total synthetic rows: {sum(len(df) for df in synthetic_data.values()):,}\")"
      ]
    },
    {
      "cell_type": "markdown",
      "metadata": {},
      "source": [
        "## 💾 Save SDV Synthetic Data"
      ]
    },
    {
      "cell_type": "code",
      "execution_count": 8,
      "metadata": {},
      "outputs": [
        {
          "name": "stdout",
          "output_type": "stream",
          "text": [
            "💾 Saving synthetic data to CSV files...\n",
            "📁 Output directory: /Users/alejandro/workspace/car_rental_dynamic_book_prediction/data/synthetic_data/\n",
            "\\n📊 Synthetic data summary:\n",
            "  suppliers: (92, 4)\n",
            "    ✅ Saved to /Users/alejandro/workspace/car_rental_dynamic_book_prediction/data/synthetic_data/synthetic_suppliers.csv\n",
            "  car_classes: (4, 3)\n",
            "    ✅ Saved to /Users/alejandro/workspace/car_rental_dynamic_book_prediction/data/synthetic_data/synthetic_car_classes.csv\n",
            "  users: (20000, 3)\n",
            "    ✅ Saved to /Users/alejandro/workspace/car_rental_dynamic_book_prediction/data/synthetic_data/synthetic_users.csv\n",
            "  searches: (57282, 11)\n",
            "    ✅ Saved to /Users/alejandro/workspace/car_rental_dynamic_book_prediction/data/synthetic_data/synthetic_searches.csv\n",
            "  rental_prices: (8761, 10)\n",
            "    ✅ Saved to /Users/alejandro/workspace/car_rental_dynamic_book_prediction/data/synthetic_data/synthetic_rental_prices.csv\n",
            "  competitor_prices: (366, 7)\n",
            "    ✅ Saved to /Users/alejandro/workspace/car_rental_dynamic_book_prediction/data/synthetic_data/synthetic_competitor_prices.csv\n",
            "  bookings: (3205, 16)\n",
            "    ✅ Saved to /Users/alejandro/workspace/car_rental_dynamic_book_prediction/data/synthetic_data/synthetic_bookings.csv\n",
            "\\n🎉 All 7 synthetic data files saved successfully!\n",
            "📊 Total synthetic records: 89,710\n",
            "📁 Files location: /Users/alejandro/workspace/car_rental_dynamic_book_prediction/data/synthetic_data/synthetic_*.csv\n"
          ]
        }
      ],
      "source": [
        "# Create output directory\n",
        "os.makedirs(output_dir, exist_ok=True)\n",
        "\n",
        "print(\"💾 Saving synthetic data to CSV files...\")\n",
        "print(f\"📁 Output directory: {output_dir}/\")\n",
        "\n",
        "print(\"\\\\n📊 Synthetic data summary:\")\n",
        "for table_name, df in synthetic_data.items():\n",
        "    print(f\"  {table_name}: {df.shape}\")\n",
        "    \n",
        "    # Save to CSV\n",
        "    filename = os.path.join(output_dir, f\"synthetic_{table_name}.csv\")\n",
        "    df.to_csv(filename, index=False)\n",
        "    print(f\"    ✅ Saved to {filename}\")\n",
        "\n",
        "print(f\"\\\\n🎉 All {len(synthetic_data)} synthetic data files saved successfully!\")\n",
        "print(f\"📊 Total synthetic records: {sum(len(df) for df in synthetic_data.values()):,}\")\n",
        "print(f\"📁 Files location: {os.path.abspath(output_dir)}/synthetic_*.csv\")\n"
      ]
    },
    {
      "cell_type": "markdown",
      "metadata": {},
      "source": [
        "## 👁️ PREVIEW SYNTHETIC DATA\n"
      ]
    },
    {
      "cell_type": "code",
      "execution_count": 9,
      "metadata": {},
      "outputs": [
        {
          "name": "stdout",
          "output_type": "stream",
          "text": [
            "🔍 Sample of synthetic data:\n",
            "\\n📋 SUPPLIERS (first 3 rows):\n",
            "   supplier_id  location_id supplier_name               city\n",
            "0            5            5        Budget  South Christopher\n",
            "1            2           20          Avis         Jamesville\n",
            "2            2            9          Avis         Weaverstad\n",
            "────────────────────────────────────────────────────────────\n",
            "\\n📋 CAR_CLASSES (first 3 rows):\n",
            "   car_class_id car_class_name  probabilities\n",
            "0       5938957         luxury           0.20\n",
            "1       1790039         luxury           0.22\n",
            "2      15652449         luxury           0.21\n",
            "────────────────────────────────────────────────────────────\n",
            "\\n📋 USERS (first 3 rows):\n",
            "    user_id       segment  home_location_id\n",
            "0   6138286   single_trip                 1\n",
            "1   9216891  browser_only                 1\n",
            "2  15482477   single_trip                 1\n",
            "────────────────────────────────────────────────────────────\n",
            "\\n📋 SEARCHES (first 3 rows):\n",
            "   user_id            search_ts  location_id car_class          session_id  \\\n",
            "0    15887  2024-11-14 03:28:02            6   compact  11868_202411171520   \n",
            "1     9128  2024-08-17 05:58:27           15   compact   9884_202407221641   \n",
            "2    12745  2024-05-20 00:20:45           19    luxury  10035_202404201747   \n",
            "\n",
            "   search_id  user_segment  hour    weekday  month month_name  \n",
            "0   11132964  browser_only    15   Thursday     11   February  \n",
            "1   15683651  browser_only    13     Monday     10   November  \n",
            "2    8607562  browser_only    20  Wednesday      7        May  \n",
            "────────────────────────────────────────────────────────────\n",
            "\\n📋 RENTAL_PRICES (first 3 rows):\n",
            "   price_id  location_id  supplier_id car_class          pickup_date  \\\n",
            "0  16568983           19            3   compact  2024-04-23 05:15:53   \n",
            "1   8388318            8            5       suv  2024-09-12 07:39:31   \n",
            "2   4032128            1            1       suv  2024-04-13 15:18:52   \n",
            "\n",
            "                obs_ts  current_price  available_cars  days_until_pickup  \\\n",
            "0  2024-04-01 23:41:46          67.09              14                  8   \n",
            "1  2024-09-19 21:57:25         126.62              14                 11   \n",
            "2  2024-03-02 10:05:33         142.86              15                 16   \n",
            "\n",
            "   pickup_month  \n",
            "0             4  \n",
            "1             8  \n",
            "2            11  \n",
            "────────────────────────────────────────────────────────────\n",
            "\\n📋 COMPETITOR_PRICES (first 3 rows):\n",
            "    comp_id  location_id car_class pickup_date    obs_date  comp_min_price  \\\n",
            "0  15622795           11   economy  2024-11-03  2024-11-10          107.45   \n",
            "1  15891873            6    luxury  2024-05-27  2024-07-14           76.89   \n",
            "2   5581593            2    luxury  2024-10-10  2024-09-19          145.56   \n",
            "\n",
            "   days_until_pickup  \n",
            "0                 18  \n",
            "1                 21  \n",
            "2                 17  \n",
            "────────────────────────────────────────────────────────────\n",
            "\\n📋 BOOKINGS (first 3 rows):\n",
            "   booking_id  search_id  user_id  supplier_id  location_id car_class  \\\n",
            "0     3939798      47605    16055            3            8   economy   \n",
            "1    12140855      12467    19817            5            6   compact   \n",
            "2     3230426      10894    19846            1           17   compact   \n",
            "\n",
            "           pickup_date            search_ts                  booking_ts  \\\n",
            "0  2024-12-04 08:08:27  2024-11-22 11:11:30  2024-11-04 10:42:38.935730   \n",
            "1  2024-04-20 22:42:43  2024-04-10 08:46:02  2024-04-06 01:35:16.995380   \n",
            "2  2024-02-09 11:29:58  2024-02-29 14:57:00  2024-02-20 18:26:33.243512   \n",
            "\n",
            "   booking_delay_hours  days_until_pickup  search_price  booked_price  \\\n",
            "0             2.628530          19.499311         67.79         67.80   \n",
            "1             0.017054          22.321390        104.80        104.77   \n",
            "2             9.080188           6.692670         67.49         67.49   \n",
            "\n",
            "   competitor_price  price_rank     user_segment  \n",
            "0             69.07           1  frequent_renter  \n",
            "1             93.95           1  frequent_renter  \n",
            "2             58.95           1  frequent_renter  \n",
            "────────────────────────────────────────────────────────────\n"
          ]
        }
      ],
      "source": [
        "print(\"🔍 Sample of synthetic data:\")\n",
        "for table_name, df in synthetic_data.items():\n",
        "    print(f\"\\\\n📋 {table_name.upper()} (first 3 rows):\")\n",
        "    print(df.head(3))\n",
        "    print(\"─\" * 60)"
      ]
    }
  ],
  "metadata": {
    "kernelspec": {
      "display_name": ".venv",
      "language": "python",
      "name": "python3"
    },
    "language_info": {
      "codemirror_mode": {
        "name": "ipython",
        "version": 3
      },
      "file_extension": ".py",
      "mimetype": "text/x-python",
      "name": "python",
      "nbconvert_exporter": "python",
      "pygments_lexer": "ipython3",
      "version": "3.11.13"
    }
  },
  "nbformat": 4,
  "nbformat_minor": 2
}
